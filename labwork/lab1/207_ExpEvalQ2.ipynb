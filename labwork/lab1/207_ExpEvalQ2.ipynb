{
 "cells": [
  {
   "cell_type": "code",
   "execution_count": 5,
   "metadata": {
    "collapsed": true
   },
   "outputs": [],
   "source": [
    "import tensorflow as tf\n",
    "a = tf.constant(1)\n",
    "b = tf.constant(2)\n",
    "c = tf.constant(3)\n",
    "\n",
    "a_sq = tf.square(a,name = \"asquare\")\n",
    "b_sq = tf.square(b,name = \"bsquare\")\n",
    "c_sq = tf.square(c,name = \"csquare\")\n",
    "\n",
    "ab_mult = tf.multiply(a,b,name = \"ab\")\n",
    "twoab_mult = tf.multiply(ab_mult,2,name = \"2ab\")\n",
    "\n",
    "bc_mult = tf.multiply(b,c,name = \"bc\")\n",
    "twobc_mult = tf.multiply(bc_mult,2,name = \"2bc\")\n",
    "\n",
    "ca_mult = tf.multiply(c,a,name = \"ca\")\n",
    "twoca_mult = tf.multiply(ca_mult,2,name = \"2ca\")\n",
    "\n",
    "result = tf.subtract(tf.subtract(tf.add(tf.add(tf.add(a_sq,b_sq),c_sq),twoca_mult),twoab_mult),twobc_mult)"
   ]
  },
  {
   "cell_type": "code",
   "execution_count": 6,
   "metadata": {},
   "outputs": [
    {
     "name": "stdout",
     "output_type": "stream",
     "text": [
      "4\n"
     ]
    }
   ],
   "source": [
    "with tf.Session() as sess:\n",
    "    writer = tf.summary.FileWriter(\"/tmp/tboard/out1\", sess.graph)\n",
    "    print(sess.run(result))\n",
    "    writer.close()"
   ]
  },
  {
   "cell_type": "code",
   "execution_count": null,
   "metadata": {
    "collapsed": true
   },
   "outputs": [],
   "source": []
  }
 ],
 "metadata": {
  "kernelspec": {
   "display_name": "Python 3",
   "language": "python",
   "name": "python3"
  },
  "language_info": {
   "codemirror_mode": {
    "name": "ipython",
    "version": 3
   },
   "file_extension": ".py",
   "mimetype": "text/x-python",
   "name": "python",
   "nbconvert_exporter": "python",
   "pygments_lexer": "ipython3",
   "version": "3.6.1"
  }
 },
 "nbformat": 4,
 "nbformat_minor": 2
}
