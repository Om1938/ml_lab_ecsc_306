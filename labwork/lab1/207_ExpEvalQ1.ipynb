{
 "cells": [
  {
   "cell_type": "code",
   "execution_count": 1,
   "metadata": {
    "collapsed": true
   },
   "outputs": [],
   "source": [
    "import tensorflow as tf\n",
    "a = tf.constant(5)\n",
    "b = tf.constant(6)\n",
    "with tf.name_scope(\"MyOperationGroup\"):\n",
    "    a_sq = tf.square(a,name=\"asquare\")\n",
    "    b_sq = tf.square(b,name=\"bsquare\")\n",
    "    ab_mult = tf.multiply(a,b,name=\"ab\")\n",
    "    twoab_mult = tf.multiply(ab_mult,2,name=\"2ab\")\n",
    "    result = tf.add(tf.add(a_sq,b_sq,name=\"asqplusbsq\"),twoab_mult,name = \"aplusbsquare\")"
   ]
  },
  {
   "cell_type": "code",
   "execution_count": 2,
   "metadata": {},
   "outputs": [
    {
     "name": "stdout",
     "output_type": "stream",
     "text": [
      "121\n"
     ]
    }
   ],
   "source": [
    "with tf.Session() as sess:\n",
    "    writer = tf.summary.FileWriter(\"/tmp/tboard/out\", sess.graph)\n",
    "    print(sess.run(result))\n",
    "    writer.close()"
   ]
  }
 ],
 "metadata": {
  "kernelspec": {
   "display_name": "Python 3",
   "language": "python",
   "name": "python3"
  },
  "language_info": {
   "codemirror_mode": {
    "name": "ipython",
    "version": 3
   },
   "file_extension": ".py",
   "mimetype": "text/x-python",
   "name": "python",
   "nbconvert_exporter": "python",
   "pygments_lexer": "ipython3",
   "version": "3.6.1"
  }
 },
 "nbformat": 4,
 "nbformat_minor": 2
}
